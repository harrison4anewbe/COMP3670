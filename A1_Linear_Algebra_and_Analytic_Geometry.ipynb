{
 "cells": [
  {
   "cell_type": "markdown",
   "metadata": {},
   "source": [
    "## COMP3670 Programming Assignment 1 - Linear Algebra and Analytic Geometry\n",
    "---\n",
    "\n",
    "**Enter Your Student ID:**\n",
    "\n",
    "**Your Name:**\n",
    "    \n",
    "**Deadline:**23/8\n",
    "\n",
    "**Submit:** Write your answers in this file, and submit a single Jupyter Notebook file (.ipynb) on Wattle. Rename this file with your student number as 'uXXXXXXX.ipynb'.\n",
    "\n",
    "**Enter Discussion Partner IDs Below:**\n",
    "\n",
    "\n",
    "---\n",
    "**Marking distribution for the homework/assignment**\n",
    "\n",
    "- Task1 = 10%\n",
    "- Task2 = 40%\n",
    "- Task3 = 10%\n",
    "- Task4 = 40%"
   ]
  },
  {
   "cell_type": "markdown",
   "metadata": {},
   "source": [
    "## Task 0: Introduction\n",
    "---\n",
    "\n",
    "**NOTE:** *This part of the first assignment is by necessity somewhat tedious as its primary purpose is to introduce syntax, how to access and understand the Numpy documentation and some very basic concepts. If you are already familiar with Numpy, you can just read the **TASK** headings and complete the questions without worrying about all the additional information. This is designed for people who have never seen Numpy before, so it's a very easy 1st year style introduction to just introduce syntax.*\n",
    "\n",
    "*As this is a third year subject, it is assumed you already know to to program well (but may be unfamiliar with Python and Numpy).*\n",
    "\n",
    "---\n",
    "\n",
    "Arguably the most fundamental tool needed to engage with machine learning in Python is Numpy *(np)*. To include Numpy in any project, simply type the following line at the top of your python file:"
   ]
  },
  {
   "cell_type": "code",
   "execution_count": 2,
   "metadata": {},
   "outputs": [
    {
     "name": "stdout",
     "output_type": "stream",
     "text": [
      "Defaulting to user installation because normal site-packages is not writeable\n",
      "Looking in indexes: https://pypi.tuna.tsinghua.edu.cn/simple\n",
      "Requirement already satisfied: sympy in c:\\users\\harrison\\appdata\\roaming\\python\\python36\\site-packages (1.6.2)\n",
      "Requirement already satisfied: mpmath>=0.19 in c:\\users\\harrison\\appdata\\roaming\\python\\python36\\site-packages (from sympy) (1.1.0)\n"
     ]
    },
    {
     "name": "stderr",
     "output_type": "stream",
     "text": [
      "WARNING: pip is being invoked by an old script wrapper. This will fail in a future version of pip.\n",
      "Please see https://github.com/pypa/pip/issues/5599 for advice on fixing the underlying issue.\n",
      "To avoid this problem you can invoke Python with '-m pip' instead of running pip directly.\n"
     ]
    }
   ],
   "source": [
    "# numpy\n",
    "import numpy as np\n",
    "\n",
    "\n",
    "!pip install sympy\n",
    "import sympy as sp\n",
    "\n",
    "# display\n",
    "from IPython.core.display import HTML\n",
    "\n",
    "# matplotlib\n",
    "import matplotlib.pyplot as plt\n",
    "%matplotlib inline"
   ]
  },
  {
   "cell_type": "code",
   "execution_count": 4,
   "metadata": {},
   "outputs": [
    {
     "name": "stdout",
     "output_type": "stream",
     "text": [
      "Done\n"
     ]
    }
   ],
   "source": [
    "# check if numpy can be imported\n",
    "import numpy as np\n",
    "\n",
    "print('Done')"
   ]
  },
  {
   "cell_type": "markdown",
   "metadata": {},
   "source": [
    "A Jupyter Notebook is divided into cells, each of which works like a Python module or Latex file. When a cell is run, any cells that follow it will have access to its results. Running the above cell will give all following cells access to the Numpy library.\n",
    "\n",
    "-----------\n",
    "\n",
    "   **TASK 0.1:** To run the above cell, select it by clicking on it, hold **shift** and press **return**. If you have succeeded, then the cell will print \"Done\" just above.\n",
    "\n",
    "\n",
    "-----------\n",
    "\n",
    "Numpy is a library of common mathematical data structures and algorithms used in machine learning. For example:\n",
    "\n",
    "- It allows you to declare vectors and matrices, with all the associated mathematical operations like matrix vector products, matrix addition / subtraction.\n",
    "- It provides convenient, efficient implementations of algorithms to solve matrix equations, find the inverse of a matrix or perform Eigen decomposition. The implementation of these algorithms is compiled from C code, making Numpy much faster than programming these algorithms yourself in Python.\n",
    "\n",
    "You'll need to know Numpy inside and out. We'll start by getting you familiar with the easy to access online documentation and performing a few basic operations.\n",
    "\n",
    "Below I have declared the matrices: \n",
    "\n",
    "$$A = \n",
    "\\begin{bmatrix}\n",
    "2&3\\\\\n",
    "0&1\\\\\n",
    "\\end{bmatrix}\n",
    "\\\\\n",
    "x = \n",
    "\\begin{bmatrix}\n",
    "1\\\\\n",
    "3\\\\\n",
    "\\end{bmatrix}\n",
    "$$. \n",
    "\n",
    "---\n",
    "**TASK 0.2:** Run the cell below and observe what it prints.\n",
    "\n",
    "\n",
    "---\n",
    "(If it throws an error, you have the wrong version of python installed. This entire course will use Python 3, not Python 2)\n",
    "\n"
   ]
  },
  {
   "cell_type": "code",
   "execution_count": 2,
   "metadata": {},
   "outputs": [
    {
     "name": "stdout",
     "output_type": "stream",
     "text": [
      "\n",
      "Matrix Multiplication\n",
      "[[11]\n",
      " [ 3]]\n"
     ]
    }
   ],
   "source": [
    "A = np.array([[2, 3], [0, 1]])\n",
    "x = np.array([[1], [3]])\n",
    "\n",
    "#Matrix Multiplication Example\n",
    "b = A @ x\n",
    "print('\\nMatrix Multiplication')\n",
    "print(b)"
   ]
  },
  {
   "cell_type": "markdown",
   "metadata": {},
   "source": [
    "The above code illustrates how to perform matrix multiplication. Memorise it. Below are some other basic operations you'll likely need over the coming semester:"
   ]
  },
  {
   "cell_type": "code",
   "execution_count": 3,
   "metadata": {},
   "outputs": [
    {
     "name": "stdout",
     "output_type": "stream",
     "text": [
      "\n",
      "Matrix Addition\n",
      "[[3 4]\n",
      " [3 4]]\n",
      "\n",
      "Elementwise Matrix Multiplication\n",
      "[[2 3]\n",
      " [0 3]]\n",
      "\n",
      "Single Element Extraction\n",
      "2\n",
      "\n",
      "Column Extraction\n",
      "[2 0]\n",
      "\n",
      "Row Extraction\n",
      "[2 3]\n",
      "\n",
      "Transpose\n",
      "[[2 0]\n",
      " [3 1]]\n"
     ]
    }
   ],
   "source": [
    "#Matrix Addition Example\n",
    "b = A + x\n",
    "print('\\nMatrix Addition')\n",
    "print(b)\n",
    "\n",
    "#Elementwise Multiplication Example\n",
    "b = A * x\n",
    "print('\\nElementwise Matrix Multiplication')\n",
    "print(b)\n",
    "\n",
    "#Extract a single element of a matrix:\n",
    "print('\\nSingle Element Extraction')\n",
    "b = A[0, 0]\n",
    "print(b)\n",
    "\n",
    "#Extract an entire column of a matrix:\n",
    "print('\\nColumn Extraction')\n",
    "b = A[:, 0]\n",
    "print(b)\n",
    "\n",
    "#Extract an entire row of a matrix:\n",
    "print('\\nRow Extraction')\n",
    "b = A[0, :]\n",
    "print(b)\n",
    "\n",
    "#Transpose of a matrix:\n",
    "print('\\nTranspose')\n",
    "A_Transpose = A.T\n",
    "print(A_Transpose)"
   ]
  },
  {
   "cell_type": "markdown",
   "metadata": {},
   "source": [
    "## Task1: Solving a system of linear equations\n",
    "---\n",
    "\n",
    "A vital part of linear algebra is to know how to solve a system of linear equations. For e.g. \n",
    "\n",
    "$$a_{11}x_1+a_{12}x_2 \\dots a_{1d}x_d=b_1$$\n",
    "$$a_{21}x_1+a_{22}x_2 \\dots a_{2d}x_d=b_2$$\n",
    "$$\\vdots$$\n",
    "$$a_{n1}x_1+a_{n2}x_2 \\dots a_{nd}x_d=b_n$$\n",
    "\n",
    "The above system of linear equations can also be written down in a compact matrix form as follows:\n",
    "\n",
    "$$AX = B$$\n",
    "\n",
    "where,\n",
    "$$A = \\begin{bmatrix}\n",
    "a_{11} & \\dots & a_{1d}\\\\\n",
    "\\vdots & \\ddots & \\vdots \\\\\n",
    "a_{n1} & \\dots & a_{nd}\n",
    "\\end{bmatrix}, \\quad\n",
    "B = \\begin{bmatrix}\n",
    "b_1 \\\\ \\vdots \\\\ b_n\n",
    "\\end{bmatrix}, \\quad\n",
    "X = \\begin{bmatrix}\n",
    "x_1 \\\\ \\vdots \\\\ x_d\n",
    "\\end{bmatrix}.\n",
    "$$"
   ]
  },
  {
   "cell_type": "markdown",
   "metadata": {},
   "source": [
    "---\n",
    "**Task 1.1**: Use numpy's solve function to compute X\n",
    "\n",
    "---\n",
    "**HINT**: https://docs.scipy.org/doc/numpy/reference/generated/numpy.linalg.solve.html"
   ]
  },
  {
   "cell_type": "code",
   "execution_count": 5,
   "metadata": {},
   "outputs": [
    {
     "name": "stdout",
     "output_type": "stream",
     "text": [
      "[[-6.]\n",
      " [ 5.]]\n"
     ]
    }
   ],
   "source": [
    "# define A,B\n",
    "A = np.array([[2, 3], [0, 1]])\n",
    "B = np.array([[3], [5]])\n",
    "\n",
    "def solve_with_numpy(A,B):\n",
    "    ## YOUR CODE HERE\n",
    "    return np.linalg.solve(A, B)\n",
    "    \n",
    "\n",
    "# show solution\n",
    "X = solve_with_numpy(A,B)\n",
    "print (X)"
   ]
  },
  {
   "cell_type": "markdown",
   "metadata": {},
   "source": [
    "A more hands on way for solving for X, involves computing first computing the inverse of the matrix $A$\n",
    "\n",
    "---\n",
    "**Task 1.2**: Use numpy's inbuilt method for computing the inverse of the matrix $A$\n",
    "\n",
    "---\n",
    "\n",
    "**HINT**: https://docs.scipy.org/doc/numpy/reference/generated/numpy.linalg.inv.html"
   ]
  },
  {
   "cell_type": "code",
   "execution_count": 14,
   "metadata": {},
   "outputs": [
    {
     "name": "stdout",
     "output_type": "stream",
     "text": [
      "[[ 0.5 -1.5]\n",
      " [ 0.   1. ]]\n"
     ]
    },
    {
     "data": {
      "text/html": [
       "<div class=\"alert alert-block alert-success\">The inverse matrix looks good</div>"
      ],
      "text/plain": [
       "<IPython.core.display.HTML object>"
      ]
     },
     "execution_count": 14,
     "metadata": {},
     "output_type": "execute_result"
    }
   ],
   "source": [
    "A = np.array([[2, 3], [0, 1]])\n",
    "\n",
    "A_inv = np.linalg.inv(A) #YOUR CODE HERE\n",
    "#print(A_inv)\n",
    "# check if A * A_inv = I\n",
    "assert A_inv is not None,\"Inverse not implemented!\"\n",
    "assert np.all(A@A_inv == np.eye(A.shape[0])),\"Inverse seems incorrect\"\n",
    "HTML('<div class=\"alert alert-block alert-success\">The inverse matrix looks good</div>')"
   ]
  },
  {
   "cell_type": "markdown",
   "metadata": {},
   "source": [
    "---\n",
    "**Task 1.3**: Use the inverse of matrix $A$, to solve for $X$\n",
    "\n",
    "---"
   ]
  },
  {
   "cell_type": "code",
   "execution_count": 16,
   "metadata": {},
   "outputs": [
    {
     "name": "stdout",
     "output_type": "stream",
     "text": [
      "[[-6.]\n",
      " [ 5.]]\n"
     ]
    }
   ],
   "source": [
    "A = np.array([[2, 3], [0, 1]])\n",
    "B = np.array([[3], [5]])\n",
    "\n",
    "# YOUR CODE HERE\n",
    "X = np.linalg.inv(A)@B\n",
    "\n",
    "print(X)"
   ]
  },
  {
   "cell_type": "markdown",
   "metadata": {},
   "source": [
    "But what if $A$ is not a square matrix?\n",
    "\n",
    "---\n",
    "**Task 1.4**: Compute the Moore-Penrose pseudo inverse for matrix $A$ and use it for computing $X$. Note that, you must not directly use `np.linalg.pinv` for computing the pseudo-inverse.\n",
    "\n",
    "---\n",
    "\n",
    "**HINT**: https://en.wikipedia.org/wiki/Moore–Penrose_inverse"
   ]
  },
  {
   "cell_type": "code",
   "execution_count": 19,
   "metadata": {},
   "outputs": [
    {
     "data": {
      "text/html": [
       "<div class=\"alert alert-block alert-success\">The inverse matrix looks good</div>"
      ],
      "text/plain": [
       "<IPython.core.display.HTML object>"
      ]
     },
     "execution_count": 19,
     "metadata": {},
     "output_type": "execute_result"
    }
   ],
   "source": [
    "A = np.array([[1, 3], [2, 7], [5, 1]])\n",
    "B = np.array([[13], [30], [9]])\n",
    "\n",
    "tmp=A.T@A\n",
    "A_pseudo_inverse=np.linalg.inv(tmp)@A.T\n",
    "X = A_pseudo_inverse@B #YOUR CODE HERE\n",
    "\n",
    "# check if everything is good\n",
    "assert A_pseudo_inverse is not None,\"Inverse not implemented!\"\n",
    "assert X is not None,\"X not solved!\"\n",
    "assert np.sum(abs(A_pseudo_inverse - np.linalg.pinv(A)))<1e-6,\"Pseudo inverse seems incorrect\"\n",
    "assert np.sum(abs(X-np.linalg.lstsq(A,B,rcond=None)[0]))<1e-6,\"X seems incorrect\"\n",
    "HTML('<div class=\"alert alert-block alert-success\">The inverse matrix looks good</div>')"
   ]
  },
  {
   "cell_type": "markdown",
   "metadata": {},
   "source": [
    "## Task 2: Computing inverse of a matrix using Gauss–Jordan elimination\n",
    "\n",
    "---\n",
    "In the last task, we used numpy's inbulit functions to compute the inverse of the matrix $A$. Lets see how it is done without using numpy!\n",
    "\n",
    "So we want to find the matrix $A^{-1}$ such that:\n",
    "\n",
    "$$A A^{-1} = I$$\n",
    "\n",
    "This can be done by performing row operations on the matrix $A$, to get an identity matrix while at the same time performing similar row operations on the identity matrix on the right hand side. \n",
    "\n",
    "Read more: https://en.wikipedia.org/wiki/Gaussian_elimination#Finding_the_inverse_of_a_matrix"
   ]
  },
  {
   "cell_type": "markdown",
   "metadata": {},
   "source": [
    "But, first lets practice Gaussian elimination!\n",
    "\n",
    "---\n",
    "**Task 2.1**:  Complete the following gaussian elimnation function to compute the reduced row-echelon form of matrix $A$. You must implement the gaussian elimination algorithm yourself, not merely call someone elses library function.\n",
    "\n",
    "---\n",
    "\n",
    "**HINT:** https://en.wikipedia.org/wiki/Gaussian_elimination"
   ]
  },
  {
   "cell_type": "code",
   "execution_count": 8,
   "metadata": {},
   "outputs": [
    {
     "name": "stdout",
     "output_type": "stream",
     "text": [
      "[[ 1  0  0 -1]\n",
      " [ 0  1  0 -1]\n",
      " [ 0  0  1  2]\n",
      " [ 0  0  0  0]\n",
      " [ 0  0  0  0]]\n"
     ]
    }
   ],
   "source": [
    "A = np.array([[1, 0, 1, 1],\n",
    "             [1, 0, 1, 1],\n",
    "             [0, 1, 1, 1],\n",
    "             [1, 1, 1, 0],\n",
    "             [1, 1, 1, 0]])\n",
    "def gaussian_elim(A):\n",
    "    h=0\n",
    "    k=0\n",
    "#     print(A)\n",
    "    while h<len(A) and k<len(A[0]):\n",
    "        Max=-1\n",
    "        I=0\n",
    "        for i in range(h,len(A)):\n",
    "            if abs(A[i,k])>I:\n",
    "                Max=i\n",
    "                I=abs(A[i,k])\n",
    "        if I==0:\n",
    "            k=k+1\n",
    "        else:            \n",
    "            #return None\n",
    "            tmp=np.array(A[Max,:])\n",
    "            A[Max,:]=A[h,:]\n",
    "            A[h,:]=tmp\n",
    "            #swap(A[i_max,:],A[h,:])\n",
    "            for i in range(h+1,len(A)):\n",
    "                div=A[i,k]/A[h,k]\n",
    "#               force to 0\n",
    "                A[i,k]=0\n",
    "                #return None\n",
    "                for j in range(k+1,len(A[0])):\n",
    "                    A[i,j]=A[i,j]-A[h,j]*div\n",
    "            tmp=A[h,k]\n",
    "            for j in range(len(A[0])):\n",
    "                A[h,j]=A[h,j]/tmp\n",
    "            h=h+1\n",
    "            k=k+1\n",
    "#     print(A)\n",
    "    m=len(A)-1\n",
    "    while m>=0:\n",
    "        n=0\n",
    "        while n<len(A[0])-1 and A[m,n] ==0:\n",
    "            n=n+1\n",
    "        if A[m,n]==1:\n",
    "            for i in range(0,m):\n",
    "                div=A[i,n]/A[m,n]\n",
    "                A[i,n]=0\n",
    "                for j in range(n+1,len(A[0])):\n",
    "                    A[i,j]=A[i,j]-A[m,j]*div\n",
    "        m=m-1\n",
    "    return A\n",
    "\n",
    "print(gaussian_elim(A))"
   ]
  },
  {
   "cell_type": "code",
   "execution_count": 9,
   "metadata": {},
   "outputs": [
    {
     "data": {
      "text/html": [
       "<div class=\"alert alert-block alert-success\">Gaussian elimination function looks good!</div>"
      ],
      "text/plain": [
       "<IPython.core.display.HTML object>"
      ]
     },
     "execution_count": 9,
     "metadata": {},
     "output_type": "execute_result"
    }
   ],
   "source": [
    "# test your gaussian_elim function\n",
    "def test_gaussian_elim():\n",
    "    for i in range(100):\n",
    "        m,n = np.random.randint(low=5,high=10,size=2)\n",
    "        a = np.random.randn(m,n)\n",
    "        sol1 = gaussian_elim(a)\n",
    "        sol2 = np.array(sp.Matrix(a).rref()[0])\n",
    "        if np.sum((sol1-sol2)**2) > 1e-6:\n",
    "            print (a,\"\\n\")\n",
    "            print (gaussian_elim(a),\"\\n\")\n",
    "            print (np.array(sp.Matrix(a).rref()[0]),\"\\n\")\n",
    "            return False\n",
    "    return True\n",
    "\n",
    "\n",
    "assert test_gaussian_elim(),\"Implementation incorrect!\"\n",
    "HTML('<div class=\"alert alert-block alert-success\">Gaussian elimination function looks good!</div>')"
   ]
  },
  {
   "cell_type": "markdown",
   "metadata": {},
   "source": [
    "---\n",
    "**Task 2.2**:  Comment on how you would tell if a square matrix is invertible by observing its reduced row-echelon form.\n",
    "\n",
    "---\n",
    "\n",
    "**Answer**: If a square matrix is invertible, it must be a non-singular matrix, so if a square matrix's rank is equal to the order. the matrix is invertible."
   ]
  },
  {
   "cell_type": "markdown",
   "metadata": {},
   "source": [
    "---\n",
    "**Task 2.3**:  Modify the gaussian elimination function to also perform similar row operations on the identity matrix to compute the inverse a square matrix $A$. The *compute_inverse* function should be according to following specifications: \n",
    "* Take as input any square matrix $A$.\n",
    "* Return:\n",
    "    - None if $A$ is non-invertible.\n",
    "    - $A^{-1}$ otherwise. \n",
    "\n",
    "---\n",
    "\n",
    "**HINT:** https://en.wikipedia.org/wiki/Gaussian_elimination#Finding_the_inverse_of_a_matrix"
   ]
  },
  {
   "cell_type": "code",
   "execution_count": 13,
   "metadata": {},
   "outputs": [
    {
     "name": "stdout",
     "output_type": "stream",
     "text": [
      "[[-1.  3.]\n",
      " [ 1. -2.]]\n"
     ]
    }
   ],
   "source": [
    "A = np.array([[2, 3], [1, 1]])\n",
    "\n",
    "# compute inverse using Gaussian-Jordan elimination\n",
    "def compute_inverse(A):\n",
    "    A=A.astype(float)\n",
    "    B=np.eye(len(A))\n",
    "    h=0\n",
    "    k=0\n",
    "#     print(A)\n",
    "    while h<len(A) and k<len(A[0]):\n",
    "        Max=-1\n",
    "        I=0\n",
    "        for i in range(h,len(A)):\n",
    "            if abs(A[i,k])>I:\n",
    "                Max=i\n",
    "                I=abs(A[i,k])\n",
    "        if I==0:\n",
    "            k=k+1\n",
    "        else:            \n",
    "            #return None\n",
    "            tmp=np.array(A[Max,:])\n",
    "            A[Max,:]=A[h,:]\n",
    "            A[h,:]=tmp\n",
    "            tmp_=np.array(B[Max,:])\n",
    "            B[Max,:]=B[h,:]\n",
    "            B[h,:]=tmp_\n",
    "            #swap(A[i_max,:],A[h,:])\n",
    "            for i in range(h+1,len(A)):\n",
    "                div=A[i,k]/A[h,k]\n",
    "#               force to 0\n",
    "                A[i,k]=0\n",
    "                #return None\n",
    "                for j in range(k+1,len(A[0])):\n",
    "                    A[i,j]=A[i,j]-A[h,j]*div\n",
    "                for j in range(len(A[0])):\n",
    "                    B[i,j]=B[i,j]-B[h,j]*div\n",
    "            tmp=A[h,k]\n",
    "            for j in range(len(A[0])):\n",
    "                A[h,j]=A[h,j]/tmp\n",
    "                B[h,j]=B[h,j]/tmp\n",
    "            h=h+1\n",
    "            k=k+1\n",
    "#     print(A)\n",
    "    m=len(A)-1\n",
    "    while m>=0:\n",
    "        n=0\n",
    "        while n<len(A[0])-1 and A[m,n] ==0:\n",
    "            n=n+1\n",
    "        if A[m,n]==1:\n",
    "            for i in range(0,m):\n",
    "                div=A[i,n]/A[m,n]\n",
    "                A[i,n]=0\n",
    "                for j in range(n+1,len(A[0])):\n",
    "                    A[i,j]=A[i,j]-A[m,j]*div\n",
    "                for j in range(len(A[0])):\n",
    "                    B[i,j]=B[i,j]-B[m,j]*div\n",
    "        m=m-1\n",
    "    flag=0\n",
    "    for i in range(len(A)):\n",
    "        if A[len(A)-1,i]!=0:\n",
    "            flag=1\n",
    "            break\n",
    "    if flag==1:\n",
    "        return B\n",
    "    return None\n",
    "    # YOUR CODE HERE\n",
    "\n",
    "# compute inverse\n",
    "A_inv = compute_inverse(A)\n",
    "print (A_inv)"
   ]
  },
  {
   "cell_type": "code",
   "execution_count": 14,
   "metadata": {},
   "outputs": [
    {
     "data": {
      "text/html": [
       "<div class=\"alert alert-block alert-success\">compute inverse function looks good!</div>"
      ],
      "text/plain": [
       "<IPython.core.display.HTML object>"
      ]
     },
     "execution_count": 14,
     "metadata": {},
     "output_type": "execute_result"
    }
   ],
   "source": [
    "# test the inverse function\n",
    "def test_compute_inverse():\n",
    "    # separate check when A is non-invertible\n",
    "    A = np.array([[2, 1], [4, 2]])\n",
    "    A_inv = compute_inverse(A)\n",
    "    assert A_inv is None,\"Inverse should be None, if A is non-invertible\"\n",
    "    \n",
    "    for i in range(1000):\n",
    "        m = np.random.randint(low=5,high=10)\n",
    "        A = np.random.randint(low=0,high=10,size=(m,m))\n",
    "        A_inv = compute_inverse(A)\n",
    "        if A_inv is None:\n",
    "            if abs(np.linalg.det(A)) > 1e-6:\n",
    "                print (\"A: \\n{}\\n\".format(A))\n",
    "                print (\"A_inv: \\n{}\\n\".format(A_inv))\n",
    "                return False\n",
    "        elif not np.sum(np.abs(A@A_inv - np.eye(A.shape[0]))) < 1e-6:\n",
    "            print (\"A: \\n{}\\n\".format(A))\n",
    "            print (\"A_inv: \\n{}\\n\".format(A_inv))\n",
    "            return False\n",
    "    return True\n",
    "\n",
    "assert test_compute_inverse(),\"Inverse is not correct\"\n",
    "HTML('<div class=\"alert alert-block alert-success\">compute inverse function looks good!</div>')"
   ]
  },
  {
   "cell_type": "markdown",
   "metadata": {},
   "source": [
    "## Task 3: Geometrical intuition for system of linear equations\n",
    "\n",
    "---\n",
    "\n",
    "In this task we will develop a geometrical intuition for solving the system of linear equations:\n",
    "\n",
    "$$AX=B$$\n",
    "\n",
    "where if you recall from before:\n",
    "\n",
    "$$A = \\begin{bmatrix}\n",
    "a_{11} & \\dots & a_{1d}\\\\\n",
    "\\vdots & \\ddots & \\vdots \\\\\n",
    "a_{n1} & \\dots & a_{nd}\n",
    "\\end{bmatrix}, \\quad\n",
    "B = \\begin{bmatrix}\n",
    "b_1 \\\\ \\vdots \\\\ b_n\n",
    "\\end{bmatrix}, \\quad\n",
    "X = \\begin{bmatrix}\n",
    "x_1 \\\\ \\vdots \\\\ x_d\n",
    "\\end{bmatrix}.\n",
    "$$\n",
    "\n",
    "This can also be written as:\n",
    "$$\n",
    "\\begin{bmatrix}\n",
    "a_{11} \\\\ \\vdots \\\\ a_{n1}\n",
    "\\end{bmatrix} \\ x_1\n",
    "+ \n",
    "\\begin{bmatrix}\n",
    "a_{12} \\\\ \\vdots \\\\ a_{n2}\n",
    "\\end{bmatrix} \\ x_2\n",
    "+ \\dots\n",
    "\\begin{bmatrix}\n",
    "a_{1d} \\\\ \\vdots \\\\ a_{nd}\n",
    "\\end{bmatrix} \\ x_d\n",
    "= \\begin{bmatrix}\n",
    "b_1 \\\\ \\vdots \\\\ b_n\n",
    "\\end{bmatrix}\n",
    "$$\n",
    "\n",
    "Thats is, solving the system of linear equations $AX=B$ is equivalent to finding a linear combination of the column vectors of matrix $A$, that result in $B$."
   ]
  },
  {
   "cell_type": "markdown",
   "metadata": {},
   "source": [
    "---\n",
    "**Task 3.1**: Given a matrix $A$ of shape (2 X 2), generate a plot containing arrows representing the column vectors of $A$.\n",
    "\n",
    "---\n",
    "**HINTS:** \n",
    "\n",
    "- For $A=I$, the plot should look something like:\n",
    "![title](https://upload.cc/i1/2019/08/01/LqQUbB.png)\n",
    "- You'll need to use plt.quiver() with angles='xy', scale_units='xy' and scale=1. \n",
    "    - https://matplotlib.org/3.1.1/api/_as_gen/matplotlib.pyplot.quiver.html\n",
    "- You'll need use '*origin' as the origin of the quiver plot, including the asterix."
   ]
  },
  {
   "cell_type": "code",
   "execution_count": 55,
   "metadata": {},
   "outputs": [
    {
     "data": {
      "image/png": "[encoded data removed]",
      "text/plain": [
       "<Figure size 432x288 with 1 Axes>"
      ]
     },
     "metadata": {
      "needs_background": "light"
     },
     "output_type": "display_data"
    }
   ],
   "source": [
    "origin = [0], [0]\n",
    "\n",
    "A = np.array([[2, 3], [0, 1]])\n",
    "\n",
    "#YOUR CODE HERE\n",
    "plt.quiver(*origin,A[0][1],A[1][1],angles='xy',scale_units='xy',scale=1,color='red')\n",
    "plt.quiver(*origin,A[0][0],A[1][0],angles='xy',scale_units='xy',scale=1,color='blue')\n",
    "\n",
    "plt.xlim([-5,5])\n",
    "plt.ylim([-5,5])\n",
    "plt.title('Visualising coloumn vectors of a matrix')\n",
    "plt.show()"
   ]
  },
  {
   "cell_type": "markdown",
   "metadata": {},
   "source": [
    "---\n",
    "**Task 3.2**: To the above plot, now add an arrow (with different color) representing vector $B$. While doing so remember to:\n",
    "* Assign different labels to the arrows for matrix $A$ and $B$, using the keyword `label=A` or `label=B`.\n",
    "* Display the appropriate legend, with proper labels. Read more: https://matplotlib.org/api/_as_gen/matplotlib.pyplot.legend.html\n",
    "* Assign colored arrows for matrix $A$ as `color=red` and arrow for vector $B$ as `color=blue`\n",
    "---"
   ]
  },
  {
   "cell_type": "code",
   "execution_count": 15,
   "metadata": {},
   "outputs": [
    {
     "data": {
      "image/png": "[encoded data removed]",
      "text/plain": [
       "<Figure size 432x288 with 1 Axes>"
      ]
     },
     "metadata": {
      "needs_background": "light"
     },
     "output_type": "display_data"
    }
   ],
   "source": [
    "origin = [0], [0]\n",
    "\n",
    "A = np.array([[2, 3], [0, 4]])\n",
    "B = np.array([[3], [3]])\n",
    "\n",
    "#YOUR CODE HERE\n",
    "plt.quiver(*origin,A[0][1],A[1][1],color='red',angles='xy',scale_units='xy',scale=1,label='A')\n",
    "plt.quiver(*origin,A[0][0],A[1][0],color='red',angles='xy',scale_units='xy',scale=1,label='A')\n",
    "plt.quiver(*origin,B[0,0],B[1,0],color='blue',angles='xy',scale_units='xy',scale=1,label='B')\n",
    "\n",
    "plt.xlim([-5,5])\n",
    "plt.ylim([-5,5])\n",
    "plt.legend()\n",
    "plt.title('Visualising coloumn vectors of a matrix')\n",
    "plt.show()"
   ]
  },
  {
   "cell_type": "markdown",
   "metadata": {},
   "source": [
    "The above plot should convey a more intuitve picture than the simply looking at $AX=B$. Let's test our intuition!\n",
    "\n",
    "---\n",
    "**Task 3.3**: Without calculating, for $X = [x_1 \\ x_2]^T$, analytically comment on the magnitude of $x_1$ and $x_2$. That is choose one of the following:\n",
    "1. $|x_1| > |x_2|$\n",
    "2. $|x_1| < |x_2|$\n",
    "3. $|x_1| \\approx |x_2|$\n",
    "\n",
    "---\n",
    "\n",
    "**Answer**\n",
    "$|x_2| > |x_1|$ from the plot above, it is clearly that A1's length is greater than A2's."
   ]
  },
  {
   "cell_type": "markdown",
   "metadata": {},
   "source": [
    "## Task 4: Gram-Schmidt orthogonalization\n",
    "\n",
    "The Gram-Schmidt algorithm is used for finding an orthonormal basis for the subspace spanned by a set of vectors.\n",
    "\n",
    "---\n",
    "**Read more:** https://en.wikipedia.org/wiki/Gram–Schmidt_process"
   ]
  },
  {
   "cell_type": "markdown",
   "metadata": {},
   "source": [
    "---\n",
    "**Task 4.1**: Given two linearly independent but non-orthogonal vectors $u_1,u_2$, write down the equations for computing the orthogonal basis $\\{v_1,v_2\\}$ for subspace covered by $\\{u_1,u_2\\}$.\n",
    "\n",
    "---\n",
    "\n",
    "**Answer** \n",
    "$$v_1=u_1$$\n",
    "$$v_2=u_2-\\frac{{\\langle}u_2,v_1{\\rangle}}{{\\langle}v_1,v_1{\\rangle}}v_1$$"
   ]
  },
  {
   "cell_type": "markdown",
   "metadata": {},
   "source": [
    "---\n",
    "**Task 4.2**: Briefly show that $v_1, v_2$ are orthogonal.\n",
    "\n",
    "---\n",
    "\n",
    "**Answer**\n",
    "when$$v_1=u_1$$\n",
    "using dot product.\n",
    "$${\\langle}v_1,v_2{\\rangle}=u_1u_2=\\frac{u_2u_1}{u_1u_1}u_1u_1=0$$\n",
    "So $$v_1 and v_2$$ are orthogonal"
   ]
  },
  {
   "cell_type": "markdown",
   "metadata": {},
   "source": [
    "---\n",
    "**Task 4.3**: Implement a function that finds an orthonormal basis of column vectors for matrix $A$. The *gram_schmidt* function should be according to following specifications: \n",
    "* Take as input any matrix $A$.\n",
    "* Return a matrix with the orthonormal basis vectors as the columns.\n",
    "\n",
    "---\n",
    "**NOTE**: The resulting basis should be orthonormal, so each basis vector should be of norm 1."
   ]
  },
  {
   "cell_type": "code",
   "execution_count": 16,
   "metadata": {},
   "outputs": [
    {
     "name": "stdout",
     "output_type": "stream",
     "text": [
      "[[1. 0. 0. 0. 0.]\n",
      " [0. 1. 0. 0. 0.]\n",
      " [0. 0. 1. 0. 0.]\n",
      " [0. 0. 0. 1. 0.]\n",
      " [0. 0. 0. 0. 1.]]\n"
     ]
    }
   ],
   "source": [
    "# Find orthonormal basis using gram-schmidt \n",
    "A=np.array([[1,0,1,0,0,0],\n",
    "            [0,0,1,0,1,0],\n",
    "            [1,0,0,0,1,0]])\n",
    "B=np.array([[2,9,4,5,3],\n",
    "            [4,7,0,5,5],\n",
    "            [0,2,5,7,3],\n",
    "            [3,1,1,4,0],\n",
    "            [6,0,1,1,9],\n",
    "            [3,4,0,1,9],\n",
    "            [5,7,1,0,5]])\n",
    "def gossin(A):\n",
    "    h=0\n",
    "    k=0\n",
    "#     print(A)\n",
    "    while h<len(A) and k<len(A[0]):\n",
    "        Max=-1\n",
    "        I=0\n",
    "        for i in range(h,len(A)):\n",
    "            if abs(A[i,k])>I:\n",
    "                Max=i\n",
    "                I=abs(A[i,k])\n",
    "        if I==0:\n",
    "            k=k+1\n",
    "        else:            \n",
    "            #return None\n",
    "            tmp=np.array(A[Max,:])\n",
    "            A[Max,:]=A[h,:]\n",
    "            A[h,:]=tmp\n",
    "            #swap(A[i_max,:],A[h,:])\n",
    "            for i in range(h+1,len(A)):\n",
    "                div=A[i,k]/A[h,k]\n",
    "#               force to 0\n",
    "                A[i,k]=0\n",
    "                #return None\n",
    "                for j in range(k+1,len(A[0])):\n",
    "                    A[i,j]=A[i,j]-A[h,j]*div\n",
    "            tmp=A[h,k]\n",
    "            for j in range(len(A[0])):\n",
    "                A[h,j]=A[h,j]/tmp\n",
    "            h=h+1\n",
    "            k=k+1\n",
    "#     print(A)\n",
    "    m=len(A)-1\n",
    "    while m>=0:\n",
    "        n=0\n",
    "        while n<len(A[0])-1 and A[m,n] ==0:\n",
    "            n=n+1\n",
    "        if A[m,n]==1:\n",
    "            for i in range(0,m):\n",
    "                div=A[i,n]/A[m,n]\n",
    "                A[i,n]=0\n",
    "                for j in range(n+1,len(A[0])):\n",
    "                    A[i,j]=A[i,j]-A[m,j]*div\n",
    "        m=m-1\n",
    "    return A\n",
    "\n",
    "def square(A):\n",
    "    stand=0\n",
    "    for i in A:\n",
    "        stand+=i*i\n",
    "    return stand\n",
    "def check(A,i):\n",
    "    if i>=len(A) or i>=len(A[0]) or A[i,i]!=1:\n",
    "        return False\n",
    "    for p in range(i-1):\n",
    "        if A[p,i]!=0 or A[i,p]!=0:\n",
    "            return False\n",
    "    return True\n",
    "\n",
    "def gram_schmidt(A):\n",
    "    A=gossin(A)\n",
    "    l=0\n",
    "    for i in range(len(A[0])):\n",
    "        if check(A,i):\n",
    "            l+=1\n",
    "        else:\n",
    "            break\n",
    "    #print(l)\n",
    "    #The number of orthonormal basis of column vectors is equal to the rank of the vector group, which can represent the basis, at the same time it is orthonormal\n",
    "    return np.eye(l)\n",
    "\n",
    "print(gram_schmidt(B))"
   ]
  },
  {
   "cell_type": "code",
   "execution_count": 238,
   "metadata": {},
   "outputs": [
    {
     "data": {
      "text/html": [
       "<div class=\"alert alert-block alert-success\">Gram-schmidt orthogonalization function looks good!</div>"
      ],
      "text/plain": [
       "<IPython.core.display.HTML object>"
      ]
     },
     "execution_count": 238,
     "metadata": {},
     "output_type": "execute_result"
    }
   ],
   "source": [
    "def orthonormality_checker(A):    \n",
    "    # check orthonormality: for an orthonormal matrix A.T@A = I\n",
    "    is_orthogonal = (np.sum(np.abs((A.T@A - np.eye(A.shape[1]))**2)) < 1e-6)\n",
    "    return is_orthogonal\n",
    "\n",
    "\n",
    "# test gaussian_elim function\n",
    "def test_gram_schmidt():\n",
    "    for i in range(100):\n",
    "        m,n = np.random.randint(low=5,high=10,size=2)\n",
    "        a = np.random.randint(low=0,high=10,size=(m,n))\n",
    "        orthonormal_basis = gram_schmidt(a)\n",
    "        if not orthonormality_checker(orthonormal_basis):\n",
    "            # display the matrix for which the method fails\n",
    "            print (a,\"\\n\")\n",
    "            return False\n",
    "    return True\n",
    "\n",
    "assert test_gram_schmidt(),\"Resulting basis vectors are not orthonormal!\"\n",
    "HTML('<div class=\"alert alert-block alert-success\">Gram-schmidt orthogonalization function looks good!</div>')"
   ]
  },
  {
   "cell_type": "markdown",
   "metadata": {},
   "source": [
    "---\n",
    "**END OF ASSIGNMENT**\n",
    "___"
   ]
  }
 ],
 "metadata": {
  "kernelspec": {
   "display_name": "Python 3",
   "language": "python",
   "name": "python3"
  },
  "language_info": {
   "codemirror_mode": {
    "name": "ipython",
    "version": 3
   },
   "file_extension": ".py",
   "mimetype": "text/x-python",
   "name": "python",
   "nbconvert_exporter": "python",
   "pygments_lexer": "ipython3",
   "version": "3.7.3"
  }
 },
 "nbformat": 4,
 "nbformat_minor": 4
}
